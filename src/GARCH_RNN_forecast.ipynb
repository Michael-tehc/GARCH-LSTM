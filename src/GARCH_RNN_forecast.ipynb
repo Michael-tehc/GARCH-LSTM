{
 "cells": [
  {
   "cell_type": "code",
   "execution_count": 1,
   "id": "287e4849-2f2b-4e95-960f-482d4cdf5d75",
   "metadata": {},
   "outputs": [],
   "source": [
    "import jax; jax.config.update(\"jax_enable_x64\", True)\n",
    "import jax.numpy as np, jax.random as rnd\n",
    "import polars as pl"
   ]
  },
  {
   "cell_type": "code",
   "execution_count": 2,
   "id": "ad57db42-81dc-4e92-9c25-9f51958389ed",
   "metadata": {},
   "outputs": [],
   "source": [
    "import matplotlib.pyplot as plt"
   ]
  },
  {
   "cell_type": "code",
   "execution_count": 3,
   "id": "e654bea3-c906-4e6e-83bb-8510742a2b56",
   "metadata": {},
   "outputs": [],
   "source": [
    "import GARCH"
   ]
  },
  {
   "cell_type": "markdown",
   "id": "427391fc-6589-4708-aecd-6017285d2ed9",
   "metadata": {},
   "source": [
    "Каждая модель получает на вход временной ряд (здесь - 100 наблюдений) и прогнозирет одно число - условную дисперсию на 1 шаг вперёд."
   ]
  },
  {
   "cell_type": "code",
   "execution_count": 4,
   "id": "8873205a-cbb0-4f25-8d37-12a886039722",
   "metadata": {},
   "outputs": [
    {
     "data": {
      "text/plain": [
       "Array(1.41559389, dtype=float64)"
      ]
     },
     "execution_count": 4,
     "metadata": {},
     "output_type": "execute_result"
    }
   ],
   "source": [
    "GARCH.GARCH(1.0, key=rnd.PRNGKey(4)).predict(\n",
    "    rnd.normal(rnd.PRNGKey(5), (100, 1))\n",
    ")"
   ]
  },
  {
   "cell_type": "code",
   "execution_count": 5,
   "id": "ba20c80a-8834-456b-a8c8-107a3171a814",
   "metadata": {},
   "outputs": [
    {
     "data": {
      "text/plain": [
       "Array(0.02127214, dtype=float64)"
      ]
     },
     "execution_count": 5,
     "metadata": {},
     "output_type": "execute_result"
    }
   ],
   "source": [
    "GARCH.MixGARCH([1, 1.5], key=rnd.PRNGKey(4)).predict(\n",
    "    rnd.normal(rnd.PRNGKey(5), (100, 1))\n",
    ")"
   ]
  },
  {
   "cell_type": "markdown",
   "id": "ea921973-07c2-4c3d-b963-92cecf9c67a9",
   "metadata": {},
   "source": [
    "Метрики, они же - функции ошибок. Меньше - лучше."
   ]
  },
  {
   "cell_type": "code",
   "execution_count": 6,
   "id": "bfc2a4a8-07a7-4975-8187-d6145d221794",
   "metadata": {},
   "outputs": [],
   "source": [
    "def MSE(var_pred, var_true):\n",
    "    return np.mean((np.log(var_pred) - np.log(var_true))**2)\n",
    "\n",
    "def QLIKE(var_pred, var_true):\n",
    "    tmp = var_true / var_pred\n",
    "    return (tmp - np.log(tmp) - 1).mean()"
   ]
  },
  {
   "cell_type": "markdown",
   "id": "0b6d9a5e-4044-4e3b-b98c-dc8c895ca1b8",
   "metadata": {},
   "source": [
    "# Прогнозирование дисперсии на 1 шаг вперёд\n",
    "\n",
    "- `time_series_cv` - кросс-валидация для временных рядов.\n",
    "- `forecast_many` запускает `time_series_cv` для всех тикеров."
   ]
  },
  {
   "cell_type": "code",
   "execution_count": 7,
   "id": "f0b123d7-34bc-4fab-8201-3d2d530dab8c",
   "metadata": {},
   "outputs": [],
   "source": [
    "def time_series_cv(\n",
    "    model, series_in: np.ndarray, var_true: np.ndarray, oos: int,\n",
    "    quiet: bool=False\n",
    "):\n",
    "    series_in, var_true = (\n",
    "        np.asarray(series_in).reshape(-1, 1), np.asarray(var_true)\n",
    "    )\n",
    "    assert series_in.ndim == 2\n",
    "    assert var_true.ndim == 1\n",
    "    assert series_in.shape[0] == var_true.shape[0]\n",
    "\n",
    "    var_preds = []\n",
    "    L = series_in.shape[0]\n",
    "    ibegin = L - oos\n",
    "    for t in range(ibegin, L):\n",
    "        window = series_in[:t, :]\n",
    "\n",
    "        model, var_pred = model.fit_predict(window)\n",
    "        var_preds.append(float(var_pred))\n",
    "    return np.asarray(var_preds), var_true[ibegin:]"
   ]
  },
  {
   "cell_type": "code",
   "execution_count": 8,
   "id": "d78195a9-ecda-456a-9e7e-8722a03e744d",
   "metadata": {},
   "outputs": [],
   "source": [
    "def forecast_many(df_full: pl.DataFrame, n_components: int, oos: int, key: rnd.PRNGKey):\n",
    "    tickers = sorted(df_full[\"Ticker\"].unique())\n",
    "    results = []\n",
    "    for ticker in tickers:\n",
    "        df = df_full.filter(pl.col(\"Ticker\") == ticker).select(\n",
    "            \"Datetime\", pl.col(\"Ret_Close\")*100, pl.col(\"RV_Close\") * 100**2\n",
    "        ).sort(\"Datetime\")\n",
    "        pred_garch, true_garch = time_series_cv(\n",
    "            GARCH.GARCH(0.1, key=key),\n",
    "            df[\"Ret_Close\"], df[\"RV_Close\"], oos, quiet=True\n",
    "        )\n",
    "        pred_mix, true_mix = time_series_cv(\n",
    "            GARCH.MixGARCH([0.1] * n_components, key=key),\n",
    "            df[\"Ret_Close\"], df[\"RV_Close\"], oos, quiet=True\n",
    "        )\n",
    "\n",
    "        mse_garch = MSE(pred_garch, true_garch).item()\n",
    "        qlike_garch = QLIKE(pred_garch, true_garch).item()\n",
    "        mse_mix = MSE(pred_mix, true_mix).item()\n",
    "        qlike_mix = QLIKE(pred_mix, true_mix).item()\n",
    "        print(ticker, f\"{qlike_garch=:.5f} {qlike_mix=:.5f}\")\n",
    "        \n",
    "        results.append([ticker, \"GARCH\", mse_garch, qlike_garch])\n",
    "        results.append([ticker, \"Mix\", mse_mix, qlike_mix])\n",
    "    return pl.DataFrame(\n",
    "        results, {'Ticker': str, 'Model': str, 'MSE': float, 'QLIKE': float}\n",
    "    )"
   ]
  },
  {
   "cell_type": "markdown",
   "id": "b6329fa2-3e28-4b7b-85d8-aeaf2d130e04",
   "metadata": {},
   "source": [
    "## Пример данных\n",
    "\n",
    "- `Ret_Close` - дневная доходность по ценам закрытия.\n",
    "- `RV_Close` - реализованная волатильность за соовтетствующий день; рассчитана по 5-минутным доходностям."
   ]
  },
  {
   "cell_type": "code",
   "execution_count": 9,
   "id": "6bf64d1f-74f4-4c57-b395-12fbc60d2299",
   "metadata": {},
   "outputs": [
    {
     "data": {
      "text/html": [
       "<div><style>\n",
       ".dataframe > thead > tr,\n",
       ".dataframe > tbody > tr {\n",
       "  text-align: right;\n",
       "  white-space: pre-wrap;\n",
       "}\n",
       "</style>\n",
       "<small>shape: (5, 2)</small><table border=\"1\" class=\"dataframe\"><thead><tr><th>Ret_Close</th><th>RV_Close</th></tr><tr><td>f64</td><td>f64</td></tr></thead><tbody><tr><td>-1.376254</td><td>3.527826</td></tr><tr><td>3.604657</td><td>13.091509</td></tr><tr><td>-2.11764</td><td>14.35587</td></tr><tr><td>0.698661</td><td>2.927011</td></tr><tr><td>0.766567</td><td>1.770776</td></tr></tbody></table></div>"
      ],
      "text/plain": [
       "shape: (5, 2)\n",
       "┌───────────┬───────────┐\n",
       "│ Ret_Close ┆ RV_Close  │\n",
       "│ ---       ┆ ---       │\n",
       "│ f64       ┆ f64       │\n",
       "╞═══════════╪═══════════╡\n",
       "│ -1.376254 ┆ 3.527826  │\n",
       "│ 3.604657  ┆ 13.091509 │\n",
       "│ -2.11764  ┆ 14.35587  │\n",
       "│ 0.698661  ┆ 2.927011  │\n",
       "│ 0.766567  ┆ 1.770776  │\n",
       "└───────────┴───────────┘"
      ]
     },
     "execution_count": 9,
     "metadata": {},
     "output_type": "execute_result"
    }
   ],
   "source": [
    "df = pl.read_parquet(\"../data/returns_rv_1d.parquet\").filter(\n",
    "    pl.col(\"Ticker\") == \"AFLT\"\n",
    ").select(pl.col(\"Ret_Close\")*100, pl.col(\"RV_Close\") * 100**2)\n",
    "df.head()"
   ]
  },
  {
   "cell_type": "markdown",
   "id": "85f1de6a-f4e7-4ff9-b907-3699820acb7a",
   "metadata": {},
   "source": [
    "## Пример оценки модели и расчёта точности прогноза"
   ]
  },
  {
   "cell_type": "code",
   "execution_count": 10,
   "id": "0540ef30-dc60-4320-bf6e-5ee72fa1560d",
   "metadata": {},
   "outputs": [
    {
     "data": {
      "text/plain": [
       " message: Optimization terminated successfully\n",
       " success: True\n",
       "  status: 0\n",
       "     fun: 1.9817065241921938\n",
       "       x: [ 3.725e-01  2.109e-01  6.857e-01]\n",
       "     nit: 10\n",
       "     jac: [-5.848e-04 -1.637e-04 -1.439e-03]\n",
       "    nfev: 45\n",
       "    njev: 10"
      ]
     },
     "execution_count": 10,
     "metadata": {},
     "output_type": "execute_result"
    }
   ],
   "source": [
    "model, sol, crit = GARCH.GARCH(1.0, key=rnd.PRNGKey(4)).fit(\n",
    "    np.asarray(df[\"Ret_Close\"]).reshape((-1, 1))\n",
    ")\n",
    "sol"
   ]
  },
  {
   "cell_type": "code",
   "execution_count": 11,
   "id": "936db88a-2039-4ded-82f0-efd8474c54df",
   "metadata": {},
   "outputs": [],
   "source": [
    "fc_GARCH = time_series_cv(\n",
    "    GARCH.GARCH(0.1, key=rnd.PRNGKey(4)),\n",
    "    df[\"Ret_Close\"], df[\"RV_Close\"], 100\n",
    ")"
   ]
  },
  {
   "cell_type": "code",
   "execution_count": 12,
   "id": "587e3fea-b6c9-49be-80db-7f29c429b685",
   "metadata": {},
   "outputs": [
    {
     "data": {
      "text/plain": [
       "{'MSE': 0.3772259204704197, 'QLIKE': 0.24808227654808002}"
      ]
     },
     "execution_count": 12,
     "metadata": {},
     "output_type": "execute_result"
    }
   ],
   "source": [
    "{'MSE': MSE(fc_GARCH[0], fc_GARCH[1]).item(),\n",
    " 'QLIKE': QLIKE(fc_GARCH[0], fc_GARCH[1]).item()}"
   ]
  },
  {
   "cell_type": "code",
   "execution_count": 13,
   "id": "11a6799f-2f3f-428b-abb8-6a8ce27ea169",
   "metadata": {},
   "outputs": [],
   "source": [
    "fc_RNN = time_series_cv(\n",
    "    GARCH.MixGARCH([0.1] * 3, key=rnd.PRNGKey(4)),\n",
    "    df[\"Ret_Close\"], df[\"RV_Close\"], 100\n",
    ")"
   ]
  },
  {
   "cell_type": "code",
   "execution_count": 14,
   "id": "2cca91a9-de7e-4110-ad11-3b865c4aa05b",
   "metadata": {},
   "outputs": [
    {
     "data": {
      "text/plain": [
       "{'MSE': 0.3803638469073552, 'QLIKE': 0.2608282942097771}"
      ]
     },
     "execution_count": 14,
     "metadata": {},
     "output_type": "execute_result"
    }
   ],
   "source": [
    "{'MSE': MSE(fc_RNN[0], fc_RNN[1]).item(),\n",
    " 'QLIKE': QLIKE(fc_RNN[0], fc_RNN[1]).item()}"
   ]
  },
  {
   "cell_type": "markdown",
   "id": "67b69608-d0bb-46df-a197-9d2b18c9101c",
   "metadata": {},
   "source": [
    "## Прогноз для всех тикеров\n",
    "\n",
    "Формат вывода по колонкам:\n",
    "\n",
    "1. Тикер.\n",
    "2. `qlike_garch` - метрика QLIKE для GARCH(1,1).\n",
    "3. `qlike_mix` - QLIKE для GARCH(1,1)-RNN с 3 компонентами."
   ]
  },
  {
   "cell_type": "code",
   "execution_count": 16,
   "id": "f3910d28-4b4f-493f-b3a6-100cca00fadc",
   "metadata": {},
   "outputs": [
    {
     "name": "stdout",
     "output_type": "stream",
     "text": [
      "AFLT qlike_garch=0.24808 qlike_mix=0.26083\n",
      "ALRS qlike_garch=0.34750 qlike_mix=0.30788\n",
      "BANE qlike_garch=0.67326 qlike_mix=0.70765\n",
      "CBOM qlike_garch=0.35427 qlike_mix=0.39677\n",
      "FESH qlike_garch=0.72344 qlike_mix=0.63469\n",
      "GAZP qlike_garch=0.43535 qlike_mix=0.30101\n",
      "INGR qlike_garch=0.60650 qlike_mix=0.54391\n",
      "KAZT qlike_garch=1.58235 qlike_mix=1.34884\n",
      "KMAZ qlike_garch=1.97968 qlike_mix=1.56727\n",
      "LKOH qlike_garch=0.30257 qlike_mix=0.31997\n",
      "LVHK qlike_garch=1.22298 qlike_mix=1.97527\n",
      "MGTS qlike_garch=4.73733 qlike_mix=3.53192\n",
      "MTSS qlike_garch=0.55991 qlike_mix=0.58865\n",
      "MVID qlike_garch=0.39255 qlike_mix=0.39837\n",
      "ROSN qlike_garch=0.23985 qlike_mix=0.21684\n",
      "SBER qlike_garch=0.20172 qlike_mix=0.20908\n",
      "UTAR qlike_garch=4.42047 qlike_mix=3.96832\n",
      "VTBR qlike_garch=0.25724 qlike_mix=0.24062\n",
      "ZILL qlike_garch=1.50444 qlike_mix=1.93816\n"
     ]
    },
    {
     "data": {
      "text/html": [
       "<div><style>\n",
       ".dataframe > thead > tr,\n",
       ".dataframe > tbody > tr {\n",
       "  text-align: right;\n",
       "  white-space: pre-wrap;\n",
       "}\n",
       "</style>\n",
       "<small>shape: (38, 4)</small><table border=\"1\" class=\"dataframe\"><thead><tr><th>Ticker</th><th>Model</th><th>MSE</th><th>QLIKE</th></tr><tr><td>str</td><td>str</td><td>f64</td><td>f64</td></tr></thead><tbody><tr><td>&quot;AFLT&quot;</td><td>&quot;GARCH&quot;</td><td>0.377226</td><td>0.248082</td></tr><tr><td>&quot;AFLT&quot;</td><td>&quot;Mix&quot;</td><td>0.380364</td><td>0.260828</td></tr><tr><td>&quot;ALRS&quot;</td><td>&quot;GARCH&quot;</td><td>0.498489</td><td>0.347505</td></tr><tr><td>&quot;ALRS&quot;</td><td>&quot;Mix&quot;</td><td>0.470948</td><td>0.307877</td></tr><tr><td>&quot;BANE&quot;</td><td>&quot;GARCH&quot;</td><td>0.624547</td><td>0.67326</td></tr><tr><td>&quot;BANE&quot;</td><td>&quot;Mix&quot;</td><td>0.660329</td><td>0.707645</td></tr><tr><td>&quot;CBOM&quot;</td><td>&quot;GARCH&quot;</td><td>0.466118</td><td>0.354269</td></tr><tr><td>&quot;CBOM&quot;</td><td>&quot;Mix&quot;</td><td>0.512202</td><td>0.396771</td></tr><tr><td>&quot;FESH&quot;</td><td>&quot;GARCH&quot;</td><td>0.791431</td><td>0.723439</td></tr><tr><td>&quot;FESH&quot;</td><td>&quot;Mix&quot;</td><td>0.734025</td><td>0.634689</td></tr><tr><td>&quot;GAZP&quot;</td><td>&quot;GARCH&quot;</td><td>0.567048</td><td>0.435354</td></tr><tr><td>&quot;GAZP&quot;</td><td>&quot;Mix&quot;</td><td>0.52929</td><td>0.301013</td></tr><tr><td>&hellip;</td><td>&hellip;</td><td>&hellip;</td><td>&hellip;</td></tr><tr><td>&quot;MVID&quot;</td><td>&quot;GARCH&quot;</td><td>0.794793</td><td>0.392555</td></tr><tr><td>&quot;MVID&quot;</td><td>&quot;Mix&quot;</td><td>0.765044</td><td>0.398368</td></tr><tr><td>&quot;ROSN&quot;</td><td>&quot;GARCH&quot;</td><td>0.354303</td><td>0.239855</td></tr><tr><td>&quot;ROSN&quot;</td><td>&quot;Mix&quot;</td><td>0.327324</td><td>0.216838</td></tr><tr><td>&quot;SBER&quot;</td><td>&quot;GARCH&quot;</td><td>0.438509</td><td>0.201716</td></tr><tr><td>&quot;SBER&quot;</td><td>&quot;Mix&quot;</td><td>0.43867</td><td>0.209076</td></tr><tr><td>&quot;UTAR&quot;</td><td>&quot;GARCH&quot;</td><td>2.643767</td><td>4.420475</td></tr><tr><td>&quot;UTAR&quot;</td><td>&quot;Mix&quot;</td><td>2.491081</td><td>3.968322</td></tr><tr><td>&quot;VTBR&quot;</td><td>&quot;GARCH&quot;</td><td>0.367517</td><td>0.257237</td></tr><tr><td>&quot;VTBR&quot;</td><td>&quot;Mix&quot;</td><td>0.345244</td><td>0.24062</td></tr><tr><td>&quot;ZILL&quot;</td><td>&quot;GARCH&quot;</td><td>1.283288</td><td>1.504439</td></tr><tr><td>&quot;ZILL&quot;</td><td>&quot;Mix&quot;</td><td>1.361185</td><td>1.938163</td></tr></tbody></table></div>"
      ],
      "text/plain": [
       "shape: (38, 4)\n",
       "┌────────┬───────┬──────────┬──────────┐\n",
       "│ Ticker ┆ Model ┆ MSE      ┆ QLIKE    │\n",
       "│ ---    ┆ ---   ┆ ---      ┆ ---      │\n",
       "│ str    ┆ str   ┆ f64      ┆ f64      │\n",
       "╞════════╪═══════╪══════════╪══════════╡\n",
       "│ AFLT   ┆ GARCH ┆ 0.377226 ┆ 0.248082 │\n",
       "│ AFLT   ┆ Mix   ┆ 0.380364 ┆ 0.260828 │\n",
       "│ ALRS   ┆ GARCH ┆ 0.498489 ┆ 0.347505 │\n",
       "│ ALRS   ┆ Mix   ┆ 0.470948 ┆ 0.307877 │\n",
       "│ …      ┆ …     ┆ …        ┆ …        │\n",
       "│ VTBR   ┆ GARCH ┆ 0.367517 ┆ 0.257237 │\n",
       "│ VTBR   ┆ Mix   ┆ 0.345244 ┆ 0.24062  │\n",
       "│ ZILL   ┆ GARCH ┆ 1.283288 ┆ 1.504439 │\n",
       "│ ZILL   ┆ Mix   ┆ 1.361185 ┆ 1.938163 │\n",
       "└────────┴───────┴──────────┴──────────┘"
      ]
     },
     "execution_count": 16,
     "metadata": {},
     "output_type": "execute_result"
    }
   ],
   "source": [
    "df_res = forecast_many(\n",
    "    pl.read_parquet(\"../data/returns_rv_1d.parquet\"),\n",
    "    n_components=3, oos=100, key=rnd.PRNGKey(4)\n",
    ")\n",
    "df_res"
   ]
  },
  {
   "cell_type": "code",
   "execution_count": 21,
   "id": "624d6e01-b4f0-4297-b6f6-96521d79854b",
   "metadata": {},
   "outputs": [
    {
     "data": {
      "text/html": [
       "<div><style>\n",
       ".dataframe > thead > tr,\n",
       ".dataframe > tbody > tr {\n",
       "  text-align: right;\n",
       "  white-space: pre-wrap;\n",
       "}\n",
       "</style>\n",
       "<small>shape: (19, 7)</small><table border=\"1\" class=\"dataframe\"><thead><tr><th>Ticker</th><th>MSE GARCH</th><th>QLIKE GARCH</th><th>MSE Mix</th><th>QLIKE Mix</th><th>QLIKE: mix better?</th><th>MSE: mix better?</th></tr><tr><td>str</td><td>f64</td><td>f64</td><td>f64</td><td>f64</td><td>i64</td><td>i64</td></tr></thead><tbody><tr><td>&quot;AFLT&quot;</td><td>0.377226</td><td>0.248082</td><td>0.380364</td><td>0.260828</td><td>0</td><td>0</td></tr><tr><td>&quot;ALRS&quot;</td><td>0.498489</td><td>0.347505</td><td>0.470948</td><td>0.307877</td><td>1</td><td>1</td></tr><tr><td>&quot;BANE&quot;</td><td>0.624547</td><td>0.67326</td><td>0.660329</td><td>0.707645</td><td>0</td><td>0</td></tr><tr><td>&quot;CBOM&quot;</td><td>0.466118</td><td>0.354269</td><td>0.512202</td><td>0.396771</td><td>0</td><td>0</td></tr><tr><td>&quot;FESH&quot;</td><td>0.791431</td><td>0.723439</td><td>0.734025</td><td>0.634689</td><td>1</td><td>1</td></tr><tr><td>&quot;GAZP&quot;</td><td>0.567048</td><td>0.435354</td><td>0.52929</td><td>0.301013</td><td>1</td><td>1</td></tr><tr><td>&quot;INGR&quot;</td><td>0.888885</td><td>0.6065</td><td>0.836101</td><td>0.543911</td><td>1</td><td>1</td></tr><tr><td>&quot;KAZT&quot;</td><td>1.572509</td><td>1.582352</td><td>1.325976</td><td>1.348845</td><td>1</td><td>1</td></tr><tr><td>&quot;KMAZ&quot;</td><td>1.530039</td><td>1.979676</td><td>1.20808</td><td>1.567271</td><td>1</td><td>1</td></tr><tr><td>&quot;LKOH&quot;</td><td>0.438951</td><td>0.302565</td><td>0.443106</td><td>0.319973</td><td>0</td><td>0</td></tr><tr><td>&quot;LVHK&quot;</td><td>1.045894</td><td>1.222978</td><td>1.611331</td><td>1.975272</td><td>0</td><td>0</td></tr><tr><td>&quot;MGTS&quot;</td><td>2.751445</td><td>4.737332</td><td>2.769413</td><td>3.531921</td><td>1</td><td>0</td></tr><tr><td>&quot;MTSS&quot;</td><td>0.692038</td><td>0.559911</td><td>0.749445</td><td>0.588646</td><td>0</td><td>0</td></tr><tr><td>&quot;MVID&quot;</td><td>0.794793</td><td>0.392555</td><td>0.765044</td><td>0.398368</td><td>0</td><td>1</td></tr><tr><td>&quot;ROSN&quot;</td><td>0.354303</td><td>0.239855</td><td>0.327324</td><td>0.216838</td><td>1</td><td>1</td></tr><tr><td>&quot;SBER&quot;</td><td>0.438509</td><td>0.201716</td><td>0.43867</td><td>0.209076</td><td>0</td><td>0</td></tr><tr><td>&quot;UTAR&quot;</td><td>2.643767</td><td>4.420475</td><td>2.491081</td><td>3.968322</td><td>1</td><td>1</td></tr><tr><td>&quot;VTBR&quot;</td><td>0.367517</td><td>0.257237</td><td>0.345244</td><td>0.24062</td><td>1</td><td>1</td></tr><tr><td>&quot;ZILL&quot;</td><td>1.283288</td><td>1.504439</td><td>1.361185</td><td>1.938163</td><td>0</td><td>0</td></tr></tbody></table></div>"
      ],
      "text/plain": [
       "shape: (19, 7)\n",
       "┌────────┬───────────┬─────────────┬──────────┬───────────┬────────────────────┬──────────────────┐\n",
       "│ Ticker ┆ MSE GARCH ┆ QLIKE GARCH ┆ MSE Mix  ┆ QLIKE Mix ┆ QLIKE: mix better? ┆ MSE: mix better? │\n",
       "│ ---    ┆ ---       ┆ ---         ┆ ---      ┆ ---       ┆ ---                ┆ ---              │\n",
       "│ str    ┆ f64       ┆ f64         ┆ f64      ┆ f64       ┆ i64                ┆ i64              │\n",
       "╞════════╪═══════════╪═════════════╪══════════╪═══════════╪════════════════════╪══════════════════╡\n",
       "│ AFLT   ┆ 0.377226  ┆ 0.248082    ┆ 0.380364 ┆ 0.260828  ┆ 0                  ┆ 0                │\n",
       "│ ALRS   ┆ 0.498489  ┆ 0.347505    ┆ 0.470948 ┆ 0.307877  ┆ 1                  ┆ 1                │\n",
       "│ BANE   ┆ 0.624547  ┆ 0.67326     ┆ 0.660329 ┆ 0.707645  ┆ 0                  ┆ 0                │\n",
       "│ CBOM   ┆ 0.466118  ┆ 0.354269    ┆ 0.512202 ┆ 0.396771  ┆ 0                  ┆ 0                │\n",
       "│ …      ┆ …         ┆ …           ┆ …        ┆ …         ┆ …                  ┆ …                │\n",
       "│ SBER   ┆ 0.438509  ┆ 0.201716    ┆ 0.43867  ┆ 0.209076  ┆ 0                  ┆ 0                │\n",
       "│ UTAR   ┆ 2.643767  ┆ 4.420475    ┆ 2.491081 ┆ 3.968322  ┆ 1                  ┆ 1                │\n",
       "│ VTBR   ┆ 0.367517  ┆ 0.257237    ┆ 0.345244 ┆ 0.24062   ┆ 1                  ┆ 1                │\n",
       "│ ZILL   ┆ 1.283288  ┆ 1.504439    ┆ 1.361185 ┆ 1.938163  ┆ 0                  ┆ 0                │\n",
       "└────────┴───────────┴─────────────┴──────────┴───────────┴────────────────────┴──────────────────┘"
      ]
     },
     "execution_count": 21,
     "metadata": {},
     "output_type": "execute_result"
    }
   ],
   "source": [
    "results_full = df_res.filter(pl.col(\"Model\") == \"GARCH\").select(\n",
    "    \"Ticker\", pl.col(\"MSE\", \"QLIKE\").name.suffix(\" GARCH\")\n",
    ").join(\n",
    "    df_res.filter(pl.col(\"Model\") == \"Mix\").select(\n",
    "        \"Ticker\", pl.col(\"MSE\", \"QLIKE\").name.suffix(\" Mix\")\n",
    "    ), \"Ticker\"\n",
    ").with_columns(\n",
    "    (pl.col(\"QLIKE Mix\") <= pl.col(\"QLIKE GARCH\")).cast(int).alias(\"QLIKE: mix better?\"),\n",
    "    (pl.col(\"MSE Mix\") <= pl.col(\"MSE GARCH\")).cast(int).alias(\"MSE: mix better?\"),\n",
    ").sort(\"Ticker\")\n",
    "results_full"
   ]
  },
  {
   "cell_type": "code",
   "execution_count": 25,
   "id": "9f858b9c-00ed-456e-8eac-b4bbee529d0b",
   "metadata": {},
   "outputs": [
    {
     "name": "stdout",
     "output_type": "stream",
     "text": [
      "| Ticker   |   MSE GARCH |   MSE MixGARCH |   QLIKE GARCH |   QLIKE MixGARCH |\n",
      "|:---------|------------:|---------------:|--------------:|-----------------:|\n",
      "| AFLT     |       0.377 |          0.380 |         0.248 |            0.261 |\n",
      "| ALRS     |       0.498 |          0.471 |         0.348 |            0.308 |\n",
      "| BANE     |       0.625 |          0.660 |         0.673 |            0.708 |\n",
      "| CBOM     |       0.466 |          0.512 |         0.354 |            0.397 |\n",
      "| FESH     |       0.791 |          0.734 |         0.723 |            0.635 |\n",
      "| GAZP     |       0.567 |          0.529 |         0.435 |            0.301 |\n",
      "| INGR     |       0.889 |          0.836 |         0.606 |            0.544 |\n",
      "| KAZT     |       1.573 |          1.326 |         1.582 |            1.349 |\n",
      "| KMAZ     |       1.530 |          1.208 |         1.980 |            1.567 |\n",
      "| LKOH     |       0.439 |          0.443 |         0.303 |            0.320 |\n",
      "| LVHK     |       1.046 |          1.611 |         1.223 |            1.975 |\n",
      "| MGTS     |       2.751 |          2.769 |         4.737 |            3.532 |\n",
      "| MTSS     |       0.692 |          0.749 |         0.560 |            0.589 |\n",
      "| MVID     |       0.795 |          0.765 |         0.393 |            0.398 |\n",
      "| ROSN     |       0.354 |          0.327 |         0.240 |            0.217 |\n",
      "| SBER     |       0.439 |          0.439 |         0.202 |            0.209 |\n",
      "| UTAR     |       2.644 |          2.491 |         4.420 |            3.968 |\n",
      "| VTBR     |       0.368 |          0.345 |         0.257 |            0.241 |\n",
      "| ZILL     |       1.283 |          1.361 |         1.504 |            1.938 |\n"
     ]
    }
   ],
   "source": [
    "print(results_full.select(\n",
    "    \"Ticker\", \"MSE GARCH\", pl.col(\"MSE Mix\").alias(\"MSE MixGARCH\"),\n",
    "    \"QLIKE GARCH\", pl.col(\"QLIKE Mix\").alias(\"QLIKE MixGARCH\")\n",
    ").sort(\"Ticker\").to_pandas().to_markdown(index=False, floatfmt=\"8.3f\"))"
   ]
  },
  {
   "cell_type": "code",
   "execution_count": 22,
   "id": "ef0194d8-bf73-4a83-836d-e7467588c1cb",
   "metadata": {},
   "outputs": [],
   "source": [
    "results_full.write_csv(\"GARCH_RNN_forecast.csv\")"
   ]
  },
  {
   "cell_type": "code",
   "execution_count": 23,
   "id": "2682dc17-cc70-4825-acb3-5335afb78673",
   "metadata": {},
   "outputs": [
    {
     "data": {
      "text/plain": [
       "0.5263157894736842"
      ]
     },
     "execution_count": 23,
     "metadata": {},
     "output_type": "execute_result"
    }
   ],
   "source": [
    "results_full[\"QLIKE: mix better?\"].mean()"
   ]
  },
  {
   "cell_type": "code",
   "execution_count": 24,
   "id": "2571afca-a04f-4ad2-8c2c-48eade0fa730",
   "metadata": {},
   "outputs": [
    {
     "data": {
      "text/plain": [
       "0.5263157894736842"
      ]
     },
     "execution_count": 24,
     "metadata": {},
     "output_type": "execute_result"
    }
   ],
   "source": [
    "results_full[\"MSE: mix better?\"].mean()"
   ]
  },
  {
   "cell_type": "markdown",
   "id": "aa56b3e7-6488-43a0-a3d2-b63507385525",
   "metadata": {},
   "source": [
    "Смесь (RNN) даёт лучшую точность в 50% случаев, т.е. в среднем точность RNN не хуже и не лучше, чем GARCH."
   ]
  }
 ],
 "metadata": {
  "kernelspec": {
   "display_name": "GARCH_LSTM",
   "language": "python",
   "name": "garch_lstm"
  },
  "language_info": {
   "codemirror_mode": {
    "name": "ipython",
    "version": 3
   },
   "file_extension": ".py",
   "mimetype": "text/x-python",
   "name": "python",
   "nbconvert_exporter": "python",
   "pygments_lexer": "ipython3",
   "version": "3.11.4"
  }
 },
 "nbformat": 4,
 "nbformat_minor": 5
}
